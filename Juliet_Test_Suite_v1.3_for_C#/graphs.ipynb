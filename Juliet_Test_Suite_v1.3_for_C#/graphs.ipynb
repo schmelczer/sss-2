{
 "cells": [
  {
   "cell_type": "markdown",
   "metadata": {},
   "source": [
    "# Comparison of automated software vulnerability detectors​\n",
    "\n",
    "This notebook is used to calculate some of the graphs used in the report"
   ]
  },
  {
   "cell_type": "code",
   "execution_count": 28,
   "metadata": {},
   "outputs": [],
   "source": [
    "import json\n",
    "from pathlib import PurePath\n",
    "import os"
   ]
  },
  {
   "cell_type": "code",
   "execution_count": 30,
   "metadata": {},
   "outputs": [
    {
     "data": {
      "text/html": [
       "<div>\n",
       "<style scoped>\n",
       "    .dataframe tbody tr th:only-of-type {\n",
       "        vertical-align: middle;\n",
       "    }\n",
       "\n",
       "    .dataframe tbody tr th {\n",
       "        vertical-align: top;\n",
       "    }\n",
       "\n",
       "    .dataframe thead th {\n",
       "        text-align: right;\n",
       "    }\n",
       "</style>\n",
       "<table border=\"1\" class=\"dataframe\">\n",
       "  <thead>\n",
       "    <tr style=\"text-align: right;\">\n",
       "      <th></th>\n",
       "      <th>Omit</th>\n",
       "      <th>File</th>\n",
       "      <th>Tool</th>\n",
       "    </tr>\n",
       "  </thead>\n",
       "  <tbody>\n",
       "    <tr>\n",
       "      <th>0</th>\n",
       "      <td>Good</td>\n",
       "      <td>CWE113_HTTP_Response_Splitting__Web_Database_a...</td>\n",
       "      <td>Snyk</td>\n",
       "    </tr>\n",
       "    <tr>\n",
       "      <th>1</th>\n",
       "      <td>Good</td>\n",
       "      <td>CWE113_HTTP_Response_Splitting__Web_Get_Cookie...</td>\n",
       "      <td>Snyk</td>\n",
       "    </tr>\n",
       "    <tr>\n",
       "      <th>2</th>\n",
       "      <td>Good</td>\n",
       "      <td>CWE113_HTTP_Response_Splitting__Web_Get_Cookie...</td>\n",
       "      <td>Snyk</td>\n",
       "    </tr>\n",
       "    <tr>\n",
       "      <th>3</th>\n",
       "      <td>Good</td>\n",
       "      <td>CWE113_HTTP_Response_Splitting__Web_Get_Cookie...</td>\n",
       "      <td>Snyk</td>\n",
       "    </tr>\n",
       "    <tr>\n",
       "      <th>4</th>\n",
       "      <td>Good</td>\n",
       "      <td>CWE113_HTTP_Response_Splitting__Web_Params_Get...</td>\n",
       "      <td>Snyk</td>\n",
       "    </tr>\n",
       "    <tr>\n",
       "      <th>...</th>\n",
       "      <td>...</td>\n",
       "      <td>...</td>\n",
       "      <td>...</td>\n",
       "    </tr>\n",
       "    <tr>\n",
       "      <th>3976</th>\n",
       "      <td>Bad</td>\n",
       "      <td>CWE614_Sensitive_Cookie_Without_Secure/CWE614_...</td>\n",
       "      <td>Snyk</td>\n",
       "    </tr>\n",
       "    <tr>\n",
       "      <th>3977</th>\n",
       "      <td>Bad</td>\n",
       "      <td>CWE614_Sensitive_Cookie_Without_Secure/CWE614_...</td>\n",
       "      <td>Snyk</td>\n",
       "    </tr>\n",
       "    <tr>\n",
       "      <th>3978</th>\n",
       "      <td>Bad</td>\n",
       "      <td>CWE614_Sensitive_Cookie_Without_Secure/CWE614_...</td>\n",
       "      <td>Snyk</td>\n",
       "    </tr>\n",
       "    <tr>\n",
       "      <th>3979</th>\n",
       "      <td>Bad</td>\n",
       "      <td>CWE614_Sensitive_Cookie_Without_Secure/CWE614_...</td>\n",
       "      <td>Snyk</td>\n",
       "    </tr>\n",
       "    <tr>\n",
       "      <th>3980</th>\n",
       "      <td>Bad</td>\n",
       "      <td>CWE614_Sensitive_Cookie_Without_Secure/CWE614_...</td>\n",
       "      <td>Snyk</td>\n",
       "    </tr>\n",
       "  </tbody>\n",
       "</table>\n",
       "<p>3981 rows × 3 columns</p>\n",
       "</div>"
      ],
      "text/plain": [
       "      Omit                                               File  Tool\n",
       "0     Good  CWE113_HTTP_Response_Splitting__Web_Database_a...  Snyk\n",
       "1     Good  CWE113_HTTP_Response_Splitting__Web_Get_Cookie...  Snyk\n",
       "2     Good  CWE113_HTTP_Response_Splitting__Web_Get_Cookie...  Snyk\n",
       "3     Good  CWE113_HTTP_Response_Splitting__Web_Get_Cookie...  Snyk\n",
       "4     Good  CWE113_HTTP_Response_Splitting__Web_Params_Get...  Snyk\n",
       "...    ...                                                ...   ...\n",
       "3976   Bad  CWE614_Sensitive_Cookie_Without_Secure/CWE614_...  Snyk\n",
       "3977   Bad  CWE614_Sensitive_Cookie_Without_Secure/CWE614_...  Snyk\n",
       "3978   Bad  CWE614_Sensitive_Cookie_Without_Secure/CWE614_...  Snyk\n",
       "3979   Bad  CWE614_Sensitive_Cookie_Without_Secure/CWE614_...  Snyk\n",
       "3980   Bad  CWE614_Sensitive_Cookie_Without_Secure/CWE614_...  Snyk\n",
       "\n",
       "[3981 rows x 3 columns]"
      ]
     },
     "execution_count": 30,
     "metadata": {},
     "output_type": "execute_result"
    }
   ],
   "source": [
    "df = pd.DataFrame(columns=[\"Omit\", \"File\", \"Tool\"])\n",
    "\n",
    "with open(\"src-omit-good/snyk_res.json\") as f:\n",
    "  j = json.loads(f.read())\n",
    "\n",
    "for res in j[\"runs\"][0][\"results\"]:\n",
    "  df = df.append({\n",
    "    \"Omit\": \"Good\",\n",
    "    \"File\": os.path.split(res[\"locations\"][0][\"physicalLocation\"][\"artifactLocation\"][\"uri\"])[1],\n",
    "    \"Tool\": \"Snyk\"\n",
    "  }, ignore_index=True)\n",
    "with open(\"src-omit-bad/snyk_res.json\") as f:\n",
    "  j = json.loads(f.read())\n",
    "\n",
    "for res in j[\"runs\"][0][\"results\"]:\n",
    "  df = df.append({\n",
    "    \"Omit\": \"Bad\",\n",
    "    \"File\": PurePath(res[\"locations\"][0][\"physicalLocation\"][\"artifactLocation\"][\"uri\"]),\n",
    "    \"Tool\": \"Snyk\"\n",
    "  }, ignore_index=True)\n",
    "  \n",
    "df"
   ]
  },
  {
   "cell_type": "code",
   "execution_count": 6,
   "metadata": {},
   "outputs": [
    {
     "data": {
      "text/html": [
       "<div>\n",
       "<style scoped>\n",
       "    .dataframe tbody tr th:only-of-type {\n",
       "        vertical-align: middle;\n",
       "    }\n",
       "\n",
       "    .dataframe tbody tr th {\n",
       "        vertical-align: top;\n",
       "    }\n",
       "\n",
       "    .dataframe thead th {\n",
       "        text-align: right;\n",
       "    }\n",
       "</style>\n",
       "<table border=\"1\" class=\"dataframe\">\n",
       "  <thead>\n",
       "    <tr style=\"text-align: right;\">\n",
       "      <th></th>\n",
       "      <th>$schema</th>\n",
       "      <th>version</th>\n",
       "      <th>runs</th>\n",
       "    </tr>\n",
       "  </thead>\n",
       "  <tbody>\n",
       "    <tr>\n",
       "      <th>0</th>\n",
       "      <td>https://raw.githubusercontent.com/oasis-tcs/sa...</td>\n",
       "      <td>2.1.0</td>\n",
       "      <td>{'tool': {'driver': {'name': 'SnykCode', 'sema...</td>\n",
       "    </tr>\n",
       "  </tbody>\n",
       "</table>\n",
       "</div>"
      ],
      "text/plain": [
       "                                             $schema version  \\\n",
       "0  https://raw.githubusercontent.com/oasis-tcs/sa...   2.1.0   \n",
       "\n",
       "                                                runs  \n",
       "0  {'tool': {'driver': {'name': 'SnykCode', 'sema...  "
      ]
     },
     "execution_count": 6,
     "metadata": {},
     "output_type": "execute_result"
    }
   ],
   "source": [
    "snyk_g_pd"
   ]
  }
 ],
 "metadata": {
  "interpreter": {
   "hash": "31f2aee4e71d21fbe5cf8b01ff0e069b9275f58929596ceb00d14d90e3e16cd6"
  },
  "kernelspec": {
   "display_name": "Python 3.8.10 64-bit",
   "language": "python",
   "name": "python3"
  },
  "language_info": {
   "codemirror_mode": {
    "name": "ipython",
    "version": 3
   },
   "file_extension": ".py",
   "mimetype": "text/x-python",
   "name": "python",
   "nbconvert_exporter": "python",
   "pygments_lexer": "ipython3",
   "version": "3.8.10"
  },
  "orig_nbformat": 4
 },
 "nbformat": 4,
 "nbformat_minor": 2
}
